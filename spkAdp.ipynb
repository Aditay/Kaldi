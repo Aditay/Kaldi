{
 "cells": [
  {
   "cell_type": "code",
   "execution_count": 1,
   "metadata": {
    "collapsed": false
   },
   "outputs": [
    {
     "name": "stdout",
     "output_type": "stream",
     "text": [
      "(2790,)\n"
     ]
    },
    {
     "name": "stdout",
     "output_type": "stream",
     "text": [
      "Train error: 35.359200\nTest error: 42.150538\n"
     ]
    }
   ],
   "source": [
    "import numpy\n",
    "import theano\n",
    "from theano import tensor\n",
    "import cPickle\n",
    "#from io_func.data_io import read_dataset, read_data_args\n",
    "\n",
    "import scipy.io\n",
    "\n",
    "\"\"\"\n",
    "train_data_file = 'train.pfile.gz,partition=1000m,random=true,stream=false'\n",
    "valid_data_file = 'valid.pfile.gz,partition=1000m,random=true,stream=false'\n",
    "test_data_file = 'felc0.pfile.gz,partition=1000m,random=true,stream=false'\n",
    "dev_data_file = 'felc0d.pfile.gz,partition=1000m,random=true,stream=false'\n",
    "\n",
    "train_dataset, train_dataset_args = read_data_args(train_data_file)\n",
    "train, train_xy, train_x, train_y, train_set_x , train_set_y = read_dataset(train_dataset, train_dataset_args)\n",
    "\n",
    "# Reading validation dataset\n",
    "valid_dataset, valid_dataset_args = read_data_args(valid_data_file)\n",
    "valid, valid_xy, valid_x, valid_y, valid_set_x, valid_set_y = read_dataset(valid_dataset, valid_dataset_args)\n",
    "\n",
    "# Reading test dataset\n",
    "test_dataset, test_data_args = read_data_args(test_data_file)\n",
    "test, test_xy, test_x, test_y, test_set_x, test_set_y = read_dataset(test_dataset, test_data_args)\n",
    "\n",
    "# Reading dev dataset\n",
    "dev_dataset, dev_data_args = read_data_args(dev_data_file)\n",
    "dev, dev_xy, dev_x, dev_y, dev_set_x, dev_set_y = read_dataset(dev_dataset, dev_data_args)\n",
    "\n",
    "train_set_y = train_set_y.astype(numpy.int64)\n",
    "valid_set_y = valid_set_y.astype(numpy.int64)\n",
    "test_set_y = test_set_y.astype(numpy.int64)\n",
    "dev_set_y = dev_set_y.astype(numpy.int64)\n",
    "\"\"\"\n",
    "data = cPickle.load(open('/home/aditay15084/kaldi/egs/timit/s5/pdnn/data.p', \"rb\"))\n",
    "#%%\n",
    "train_set_x = data[\"train_set_x\"]\n",
    "train_set_y = data[\"train_set_y\"]\n",
    "test_set_x = data[\"test_set_x\"]\n",
    "test_set_y = data[\"test_set_y\"]\n",
    "dev_set_x = data[\"dev_set_x\"]\n",
    "dev_set_y = data[\"dev_set_y\"]\n",
    "\n",
    "print test_set_y.shape\n",
    "\n",
    "n_in = 440\n",
    "n_hidden = 1024\n",
    "n_out = 1940\n",
    "\n",
    "x = tensor.matrix('x')\n",
    "# W1_value = a[0]\n",
    "# b1_value = a[1]\n",
    "# W2_value = a[2]\n",
    "# b2_value = a[3]\n",
    "# W3_value = a[4]\n",
    "# b3_value = a[5]\n",
    "# W4_value = a[6]\n",
    "# b4_value = a[7]\n",
    "# W_out_value = a[8]\n",
    "# b_out_value = a[9]\n",
    "mat = scipy.io.loadmat('/home/aditay15084/kaldi/egs/timit/s5/pdnn/W1.mat')\n",
    "# print mat\n",
    "a = mat['W1']\n",
    "a = numpy.asarray(a)\n",
    "# print a.dtype\n",
    "# W1_value = numpy.asarray(mat['W1'])\n",
    "W1_value = numpy.asarray(mat['W1'])\n",
    "\n",
    "mat = scipy.io.loadmat('/home/aditay15084/kaldi/egs/timit/s5/pdnn/b1.mat')\n",
    "b1_value = numpy.asarray(mat['b1'])\n",
    "# print b1_value.shape\n",
    "b1_value = b1_value.reshape(1024,)\n",
    "# print b1_value.shape\n",
    "mat = scipy.io.loadmat('/home/aditay15084/kaldi/egs/timit/s5/pdnn/W2.mat')\n",
    "W2_value = numpy.asarray(mat['W2'])\n",
    "# print W2_value.shape\n",
    "mat = scipy.io.loadmat('/home/aditay15084/kaldi/egs/timit/s5/pdnn/b2.mat')\n",
    "b2_value = numpy.asarray(mat['b2'])\n",
    "# print b2_value.shape\n",
    "b2_value = b2_value.reshape(1024,)\n",
    "mat = scipy.io.loadmat('/home/aditay15084/kaldi/egs/timit/s5/pdnn/W3.mat')\n",
    "W3_value = numpy.asarray(mat['W3'])\n",
    "# print W3_value.shape\n",
    "mat = scipy.io.loadmat('/home/aditay15084/kaldi/egs/timit/s5/pdnn/b3.mat')\n",
    "b3_value = numpy.asarray(mat['b3'])\n",
    "# print b3_value.shape\n",
    "b3_value = b3_value.reshape(1024,)\n",
    "mat = scipy.io.loadmat('/home/aditay15084/kaldi/egs/timit/s5/pdnn/W4.mat')\n",
    "W4_value = numpy.asarray(mat['W4'])\n",
    "\n",
    "mat = scipy.io.loadmat('/home/aditay15084/kaldi/egs/timit/s5/pdnn/b4.mat')\n",
    "b4_value = numpy.asarray(mat['b4'])\n",
    "# print b4_value.shape\n",
    "b4_value = b4_value.reshape(1024,)\n",
    "mat = scipy.io.loadmat('/home/aditay15084/kaldi/egs/timit/s5/pdnn/W_out.mat')\n",
    "W_out_value = numpy.asarray(mat['W_out'])\n",
    "# print W_out_value.shape\n",
    "mat = scipy.io.loadmat('/home/aditay15084/kaldi/egs/timit/s5/pdnn/b_out.mat')\n",
    "b_out_value = numpy.asarray(mat['b_out'])\n",
    "# print b_out_value.shape\n",
    "b_out_value = b_out_value.reshape(1940,)\n",
    "\n",
    "\n",
    "W1 = theano.shared(value=W1_value,\n",
    "                   name='W1',\n",
    "                   borrow=False)\n",
    "b1 = theano.shared(value=b1_value,\n",
    "                   name='b1',\n",
    "                   borrow=False)\n",
    "W2 = theano.shared(value=W2_value,\n",
    "                   name='W2',\n",
    "                   borrow=False)\n",
    "b2 = theano.shared(value=b2_value,\n",
    "                   name='b2',\n",
    "                   borrow=False)\n",
    "W3 = theano.shared(value=W3_value,\n",
    "                   name='W3',\n",
    "                   borrow=False)\n",
    "b3 = theano.shared(value=b3_value,\n",
    "                   name='b3',\n",
    "                   borrow=False)\n",
    "W4 = theano.shared(value=W4_value,\n",
    "                   name='W4',\n",
    "                   borrow=False)\n",
    "b4 = theano.shared(value=b4_value,\n",
    "                   name='b4',\n",
    "                   borrow=False)\n",
    "W_out = theano.shared(value=W_out_value,\n",
    "                      name='W_out',\n",
    "                      borrow=False)\n",
    "b_out = theano.shared(value=b_out_value,\n",
    "                      name='b_out',\n",
    "                      borrow=False)\n",
    "# l1 = theano.shared(value=l1_value,\n",
    "#                    name='l1',\n",
    "#                    borrow=True)\n",
    "# l2 = theano.shared(value=l2_value,\n",
    "#                    name='l2',\n",
    "#                    borrow=True)\n",
    "# l3 = theano.shared(value=l3_value,\n",
    "#                    name='l3',\n",
    "#                    borrow=True)\n",
    "# l4 = theano.shared(value=l4_value,\n",
    "#                    name='l4',\n",
    "#                    borrow=True)\n",
    "\n",
    "y = tensor.lvector('y')\n",
    "\n",
    "hidden1 = tensor.nnet.sigmoid(tensor.dot(x, W1) + b1)\n",
    "hidden2 = tensor.nnet.sigmoid(tensor.dot(hidden1, W2) + b2)\n",
    "hidden3 = tensor.nnet.sigmoid(tensor.dot(hidden2, W3) + b3)\n",
    "hidden4 = tensor.nnet.sigmoid(tensor.dot(hidden3, W4) + b4)\n",
    "hidden_out = tensor.dot(hidden4, W_out) + b_out\n",
    "\n",
    "p_y_given_x = tensor.nnet.softmax(hidden_out)\n",
    "y_pred = tensor.argmax(p_y_given_x, axis=1)\n",
    "log_prob = tensor.log(p_y_given_x)\n",
    "log_likelihood = log_prob[tensor.arange(y.shape[0]), y]\n",
    "\n",
    "# alpha1 = 0.01\n",
    "# alpha2 = 0.01\n",
    "# alpha3 = 0.01\n",
    "# alpha4 = 0.01\n",
    "# loss1 = - log_likelihood.mean() + alpha1*((hidden1 - tensor.dot(x, W1_value) - b1_value)**2).sum() + alpha2*((hidden2 - tensor.dot(hidden1, W2_value) - b2_value)**2).sum() + alpha3*((hidden3 - tensor.dot(hidden2, W3_value) - b3_value)**2).sum() + alpha4*((hidden4 - tensor.dot(hidden3, W4_value) - b4_value)**2).sum()\n",
    "loss1 = -log_likelihood.mean()\n",
    "\n",
    "\n",
    "misclass_nb = tensor.neq(y_pred, y)\n",
    "misclass_rate = misclass_nb.mean()\n",
    "test_model = theano.function(inputs=[x,y],\n",
    "                             outputs=misclass_rate)\n",
    "# y_predictor =\n",
    "train_error = test_model(train_set_x, train_set_y)\n",
    "test_error = test_model(test_set_x, test_set_y)\n",
    "\n",
    "print ('Train error: %f'%(train_error*100))\n",
    "print ('Test error: %f'%(test_error*100))"
   ]
  },
  {
   "cell_type": "code",
   "execution_count": 20,
   "metadata": {},
   "outputs": [
    {
     "name": "stdout",
     "output_type": "stream",
     "text": [
      "(5580, 440)\n"
     ]
    },
    {
     "name": "stdout",
     "output_type": "stream",
     "text": [
      "0\n(1024,)\n"
     ]
    },
    {
     "name": "stdout",
     "output_type": "stream",
     "text": [
      "epoch 1 lhuc_error 42.222222 , domain error 50.000000 \n"
     ]
    },
    {
     "name": "stdout",
     "output_type": "stream",
     "text": [
      "epoch 2 lhuc_error 41.075269 , domain error 50.000000 \n"
     ]
    },
    {
     "name": "stdout",
     "output_type": "stream",
     "text": [
      "epoch 3 lhuc_error 41.039427 , domain error 50.000000 \n"
     ]
    },
    {
     "name": "stdout",
     "output_type": "stream",
     "text": [
      "epoch 4 lhuc_error 40.681004 , domain error 49.982079 \n"
     ]
    },
    {
     "name": "stdout",
     "output_type": "stream",
     "text": [
      "epoch 5 lhuc_error 40.716846 , domain error 49.964158 \n"
     ]
    },
    {
     "name": "stdout",
     "output_type": "stream",
     "text": [
      "epoch 6 lhuc_error 40.394265 , domain error 49.982079 \n"
     ]
    },
    {
     "name": "stdout",
     "output_type": "stream",
     "text": [
      "epoch 7 lhuc_error 40.000000 , domain error 50.000000 \n"
     ]
    },
    {
     "name": "stdout",
     "output_type": "stream",
     "text": [
      "epoch 8 lhuc_error 39.856631 , domain error 50.000000 \n"
     ]
    },
    {
     "name": "stdout",
     "output_type": "stream",
     "text": [
      "epoch 9 lhuc_error 39.749104 , domain error 50.000000 \n"
     ]
    },
    {
     "name": "stdout",
     "output_type": "stream",
     "text": [
      "epoch 10 lhuc_error 39.749104 , domain error 50.000000 \n"
     ]
    },
    {
     "name": "stdout",
     "output_type": "stream",
     "text": [
      "epoch 11 lhuc_error 39.534050 , domain error 50.000000 \n"
     ]
    },
    {
     "name": "stdout",
     "output_type": "stream",
     "text": [
      "epoch 12 lhuc_error 39.390681 , domain error 50.000000 \n"
     ]
    },
    {
     "name": "stdout",
     "output_type": "stream",
     "text": [
      "epoch 13 lhuc_error 39.103943 , domain error 50.000000 \n"
     ]
    },
    {
     "name": "stdout",
     "output_type": "stream",
     "text": [
      "epoch 14 lhuc_error 39.103943 , domain error 50.000000 \n"
     ]
    },
    {
     "name": "stdout",
     "output_type": "stream",
     "text": [
      "epoch 15 lhuc_error 38.924731 , domain error 50.000000 \n"
     ]
    },
    {
     "name": "stdout",
     "output_type": "stream",
     "text": [
      "epoch 16 lhuc_error 38.924731 , domain error 50.000000 \n"
     ]
    },
    {
     "name": "stdout",
     "output_type": "stream",
     "text": [
      "epoch 17 lhuc_error 38.853047 , domain error 50.000000 \n"
     ]
    },
    {
     "name": "stdout",
     "output_type": "stream",
     "text": [
      "epoch 18 lhuc_error 38.888889 , domain error 50.000000 \n"
     ]
    },
    {
     "name": "stdout",
     "output_type": "stream",
     "text": [
      "epoch 19 lhuc_error 38.924731 , domain error 50.000000 \n"
     ]
    },
    {
     "name": "stdout",
     "output_type": "stream",
     "text": [
      "epoch 20 lhuc_error 38.960573 , domain error 50.000000 \n"
     ]
    },
    {
     "name": "stdout",
     "output_type": "stream",
     "text": [
      "epoch 21 lhuc_error 38.853047 , domain error 50.000000 \n"
     ]
    },
    {
     "name": "stdout",
     "output_type": "stream",
     "text": [
      "epoch 22 lhuc_error 38.853047 , domain error 50.000000 \n"
     ]
    },
    {
     "name": "stdout",
     "output_type": "stream",
     "text": [
      "epoch 23 lhuc_error 38.853047 , domain error 50.000000 \n"
     ]
    },
    {
     "name": "stdout",
     "output_type": "stream",
     "text": [
      "epoch 24 lhuc_error 38.853047 , domain error 50.000000 \n"
     ]
    },
    {
     "name": "stdout",
     "output_type": "stream",
     "text": [
      "epoch 25 lhuc_error 38.853047 , domain error 50.000000 \n"
     ]
    },
    {
     "name": "stdout",
     "output_type": "stream",
     "text": [
      "epoch 26 lhuc_error 38.888889 , domain error 50.000000 \n"
     ]
    },
    {
     "name": "stdout",
     "output_type": "stream",
     "text": [
      "epoch 27 lhuc_error 38.781362 , domain error 50.000000 \n"
     ]
    },
    {
     "name": "stdout",
     "output_type": "stream",
     "text": [
      "epoch 28 lhuc_error 38.709677 , domain error 50.000000 \n"
     ]
    },
    {
     "name": "stdout",
     "output_type": "stream",
     "text": [
      "epoch 29 lhuc_error 38.888889 , domain error 50.000000 \n"
     ]
    },
    {
     "name": "stdout",
     "output_type": "stream",
     "text": [
      "epoch 30 lhuc_error 38.996416 , domain error 50.000000 \n"
     ]
    },
    {
     "name": "stdout",
     "output_type": "stream",
     "text": [
      "epoch 31 lhuc_error 39.032258 , domain error 50.000000 \n"
     ]
    },
    {
     "name": "stdout",
     "output_type": "stream",
     "text": [
      "epoch 32 lhuc_error 39.068100 , domain error 50.000000 \n"
     ]
    },
    {
     "name": "stdout",
     "output_type": "stream",
     "text": [
      "epoch 33 lhuc_error 38.996416 , domain error 50.000000 \n"
     ]
    },
    {
     "name": "stdout",
     "output_type": "stream",
     "text": [
      "epoch 34 lhuc_error 38.960573 , domain error 50.000000 \n"
     ]
    },
    {
     "name": "stdout",
     "output_type": "stream",
     "text": [
      "epoch 35 lhuc_error 39.032258 , domain error 50.000000 \n"
     ]
    },
    {
     "name": "stdout",
     "output_type": "stream",
     "text": [
      "epoch 36 lhuc_error 39.103943 , domain error 50.000000 \n"
     ]
    },
    {
     "name": "stdout",
     "output_type": "stream",
     "text": [
      "epoch 37 lhuc_error 39.103943 , domain error 50.000000 \n"
     ]
    },
    {
     "name": "stdout",
     "output_type": "stream",
     "text": [
      "epoch 38 lhuc_error 39.139785 , domain error 50.000000 \n"
     ]
    },
    {
     "name": "stdout",
     "output_type": "stream",
     "text": [
      "epoch 39 lhuc_error 39.032258 , domain error 50.000000 \n"
     ]
    },
    {
     "name": "stdout",
     "output_type": "stream",
     "text": [
      "epoch 40 lhuc_error 39.032258 , domain error 50.000000 \n"
     ]
    },
    {
     "name": "stdout",
     "output_type": "stream",
     "text": [
      "epoch 41 lhuc_error 38.853047 , domain error 50.000000 \n"
     ]
    },
    {
     "name": "stdout",
     "output_type": "stream",
     "text": [
      "epoch 42 lhuc_error 38.817204 , domain error 50.000000 \n"
     ]
    },
    {
     "name": "stdout",
     "output_type": "stream",
     "text": [
      "epoch 43 lhuc_error 38.817204 , domain error 50.000000 \n"
     ]
    },
    {
     "name": "stdout",
     "output_type": "stream",
     "text": [
      "epoch 44 lhuc_error 38.853047 , domain error 50.000000 \n"
     ]
    },
    {
     "name": "stdout",
     "output_type": "stream",
     "text": [
      "epoch 45 lhuc_error 38.888889 , domain error 50.000000 \n"
     ]
    },
    {
     "name": "stdout",
     "output_type": "stream",
     "text": [
      "epoch 46 lhuc_error 38.924731 , domain error 50.000000 \n"
     ]
    },
    {
     "name": "stdout",
     "output_type": "stream",
     "text": [
      "epoch 47 lhuc_error 38.960573 , domain error 50.000000 \n"
     ]
    },
    {
     "name": "stdout",
     "output_type": "stream",
     "text": [
      "epoch 48 lhuc_error 38.853047 , domain error 50.000000 \n"
     ]
    },
    {
     "name": "stdout",
     "output_type": "stream",
     "text": [
      "epoch 49 lhuc_error 38.853047 , domain error 50.000000 \n"
     ]
    },
    {
     "name": "stdout",
     "output_type": "stream",
     "text": [
      "epoch 50 lhuc_error 38.745520 , domain error 50.000000 \n"
     ]
    }
   ],
   "source": [
    "#%%\n",
    "# LHUC network is defined here\n",
    "# theano.config.exception_verbosity = \"high\"\n",
    "# theano.config.optimizer = \"fast_compile\"\n",
    "l1_value = numpy.asarray(\n",
    "    numpy.random.uniform(\n",
    "        low=-numpy.sqrt(6./(n_in+n_hidden)),\n",
    "        high=numpy.sqrt(6./(n_in+n_hidden)),\n",
    "        size=(n_hidden,)\n",
    "    ),\n",
    "    dtype=theano.config.floatX\n",
    ")\n",
    "\n",
    "l2_value = numpy.asarray(\n",
    "    numpy.random.uniform(\n",
    "        low=-numpy.sqrt(6./(n_hidden+n_hidden)),\n",
    "        high=-numpy.sqrt(6./(n_hidden+n_hidden)),\n",
    "        size=(n_hidden,)\n",
    "    ),\n",
    "    dtype=theano.config.floatX\n",
    ")\n",
    "\n",
    "l3_value = numpy.asarray(\n",
    "    numpy.random.uniform(\n",
    "        low=-numpy.sqrt(6./(n_hidden+n_hidden)),\n",
    "        high=numpy.sqrt(6./(n_hidden+n_hidden)),\n",
    "        size=(n_hidden,)\n",
    "    ),\n",
    "    dtype=theano.config.floatX\n",
    ")\n",
    "\n",
    "l4_value = numpy.asarray(\n",
    "    numpy.random.uniform(\n",
    "        low=-numpy.sqrt(6./(n_hidden+n_hidden)),\n",
    "        high=numpy.sqrt(6./(n_hidden+n_hidden)),\n",
    "        size=(n_hidden,)\n",
    "    ),\n",
    "    dtype=theano.config.floatX\n",
    ")\n",
    "\n",
    "l1 = theano.shared(value=l1_value,\n",
    "                   name='l1',\n",
    "                   borrow=True)\n",
    "l2 = theano.shared(value=l2_value,\n",
    "                   name='l2',\n",
    "                   borrow=True)\n",
    "l3 = theano.shared(value=l3_value,\n",
    "                   name='l3',\n",
    "                   borrow=True)\n",
    "l4 = theano.shared(value=l4_value,\n",
    "                   name='l4',\n",
    "                   borrow=True)\n",
    "\n",
    "hidden1_l = tensor.nnet.sigmoid(tensor.dot(x, W1) + b1)*2*tensor.nnet.sigmoid(l1)\n",
    "hidden2_l = tensor.nnet.sigmoid(tensor.dot(hidden1_l, W2) + b2)*2*tensor.nnet.sigmoid(l2)\n",
    "hidden3_l = tensor.nnet.sigmoid(tensor.dot(hidden2_l, W3) + b3)*2*tensor.nnet.sigmoid(l3)\n",
    "hidden4_l = tensor.nnet.sigmoid(tensor.dot(hidden3_l, W4) + b4)*2*tensor.nnet.sigmoid(l4)\n",
    "hidden_out_l = tensor.dot(hidden4_l, W_out) + b_out\n",
    "\n",
    "p_y_given_x_lhuc = tensor.nnet.softmax(hidden_out_l)\n",
    "y_pred_lhuc = tensor.argmax(p_y_given_x_lhuc, axis=1)\n",
    "log_prob_lhuc = tensor.log(p_y_given_x_lhuc)\n",
    "log_likelihood_lhuc = log_prob_lhuc[tensor.arange(y.shape[0]), y]\n",
    "loss_lhuc = - log_likelihood_lhuc.mean()\n",
    "\n",
    "misclass_nb_lhuc = tensor.neq(y_pred_lhuc, y)\n",
    "misclass_rate_lhuc = misclass_nb_lhuc.mean()\n",
    "test_model_lhuc = theano.function(inputs=[x, y],\n",
    "                                  outputs=misclass_rate_lhuc)\n",
    "\n",
    "\n",
    "n_in_a = 1024\n",
    "n_hidden_a = 1024\n",
    "n_out_a = 2\n",
    "\n",
    "Wa1_value = numpy.asarray(\n",
    "    numpy.random.uniform(\n",
    "        low=-numpy.sqrt(6./(n_in_a+n_hidden_a)),\n",
    "        high=numpy.sqrt(6./(n_in_a+n_hidden_a)),\n",
    "        size=(n_in_a, n_hidden_a)\n",
    "    ),\n",
    "    dtype=theano.config.floatX\n",
    ")\n",
    "\n",
    "ba1_value = numpy.asarray(\n",
    "    numpy.random.uniform(\n",
    "        low=-numpy.sqrt(6./(n_hidden_a+n_in_a)),\n",
    "        high=numpy.sqrt(6./(n_in_a+n_hidden_a)),\n",
    "        size=(n_hidden_a,)\n",
    "    ),\n",
    "    dtype=theano.config.floatX\n",
    ")\n",
    "\n",
    "Wa2_value = numpy.asarray(\n",
    "    numpy.random.uniform(\n",
    "        low=-numpy.sqrt(6./(n_hidden_a+n_hidden_a)),\n",
    "        high=numpy.sqrt(6./(n_hidden_a+n_hidden_a)),\n",
    "        size=(n_hidden_a, n_hidden_a)\n",
    "    ),\n",
    "    dtype=theano.config.floatX\n",
    ")\n",
    "\n",
    "ba2_value = numpy.asarray(\n",
    "    numpy.random.uniform(\n",
    "        low=-numpy.sqrt(6./(n_hidden_a+n_hidden_a)),\n",
    "        high=numpy.sqrt(6./(n_hidden_a+n_hidden_a)),\n",
    "        size=(n_hidden_a,)\n",
    "    ),\n",
    "    dtype=theano.config.floatX\n",
    ")\n",
    "Wa3_value = numpy.asarray(\n",
    "    numpy.random.uniform(\n",
    "        low=-numpy.sqrt(6./(n_hidden_a+n_hidden_a)),\n",
    "        high=numpy.sqrt(6./(n_hidden_a+n_hidden_a)),\n",
    "        size=(n_hidden_a, n_hidden_a)\n",
    "    ),\n",
    "    dtype=theano.config.floatX\n",
    ")\n",
    "ba3_value = numpy.asarray(\n",
    "    numpy.random.uniform(\n",
    "        low=-numpy.sqrt(6./(n_hidden_a+n_hidden_a)),\n",
    "        high=numpy.sqrt(6./(n_hidden_a+n_hidden_a)),\n",
    "        size=(n_hidden_a,)\n",
    "    ),\n",
    "    dtype=theano.config.floatX\n",
    ")\n",
    "\n",
    "Wa_out_value = numpy.asarray(\n",
    "    numpy.random.uniform(\n",
    "        low=-numpy.sqrt(6./(n_hidden_a+n_out_a)),\n",
    "        high=numpy.sqrt(6./(n_hidden_a+n_out_a)),\n",
    "        size=(n_hidden_a, n_out_a)\n",
    "    ),\n",
    "    dtype=theano.config.floatX\n",
    ")\n",
    "\n",
    "ba_out_value = numpy.asarray(\n",
    "    numpy.random.uniform(\n",
    "        low=-numpy.sqrt(6./(n_hidden_a+n_out_a)),\n",
    "        high=numpy.sqrt(6./(n_hidden_a+n_out_a)),\n",
    "        size=(n_out_a,)\n",
    "    ),\n",
    "    dtype=theano.config.floatX\n",
    ")\n",
    "\n",
    "Wa1 = theano.shared(value=Wa1_value,\n",
    "                    name='Wa1',\n",
    "                    borrow=True)\n",
    "ba1 = theano.shared(value=ba1_value,\n",
    "                    name='ba1',\n",
    "                    borrow=True)\n",
    "Wa2 = theano.shared(value=Wa2_value,\n",
    "                    name='Wa2',\n",
    "                    borrow=True)\n",
    "ba2 = theano.shared(value=ba2_value,\n",
    "                    name='ba2',\n",
    "                    borrow=True)\n",
    "Wa3 = theano.shared(value=Wa3_value,\n",
    "                    name='Wa3',\n",
    "                    borrow=True)\n",
    "ba3 = theano.shared(value=ba3_value,\n",
    "                    name='ba3',\n",
    "                    borrow=True)\n",
    "Wa_out = theano.shared(value=Wa_out_value,\n",
    "                       name='Wa_out',\n",
    "                       borrow=True)\n",
    "ba_out = theano.shared(value=ba_out_value,\n",
    "                       name='ba_out',\n",
    "                       borrow=True)\n",
    "# batch_size = 1\n",
    "# flag_value = numpy.asarray(\n",
    "#     numpy.random.uniform(\n",
    "#         low=-1,\n",
    "#         high=1,\n",
    "#         size=(batch_size,)\n",
    "#     ),\n",
    "#     dtype=theano.config.floatX\n",
    "# )\n",
    "#\n",
    "# flag = theano.shared(value=flag_value,\n",
    "#                      name='flag',\n",
    "#                      borrow=True)\n",
    "flag = theano.shared(value=0,\n",
    "                     name='flag',\n",
    "                     borrow=True)\n",
    "labels1 = numpy.zeros(2790)\n",
    "l = test_set_x.shape[0]\n",
    "labels2 = numpy.ones(l)\n",
    "total_x = numpy.concatenate((train_set_x[0:2790], test_set_x), axis=0)\n",
    "total_y = numpy.concatenate((train_set_y[0:2790], dev_set_y), axis=0)\n",
    "total_y_original = numpy.concatenate((train_set_y[0:2790], test_set_y), axis=0)\n",
    "total_y_domain = numpy.concatenate((labels1, labels2), axis=0)\n",
    "\n",
    "numpy.random.seed(0)\n",
    "print total_x.shape\n",
    "a = numpy.arange(2*2790)\n",
    "\n",
    "a = numpy.random.permutation(a)\n",
    "\n",
    "total_x = total_x[a]\n",
    "total_y = total_y[a]\n",
    "total_y_domain = total_y_domain[a]\n",
    "total_y_original = total_y_original[a]\n",
    "total_y = total_y.astype(numpy.int64)\n",
    "total_y_domain = total_y_domain.astype(numpy.int64)\n",
    "total_y_original = total_y_original.astype(numpy.int64)\n",
    "\n",
    "\n",
    "y2 = tensor.lvector('y2')\n",
    "# get_flag = theano.function(inputs=[y2],\n",
    "#                            outputs=[y2])\n",
    "# flag = get_flag(y2)\n",
    "# flag = y2.eval()\n",
    "# flag = y2.get_scalar_constant_value()\n",
    "# fl = tensor.lvector('flag')\n",
    "# if flag.get_value() == 1:\n",
    "hiddena_1 = tensor.nnet.sigmoid(tensor.dot(hidden4_l, Wa1) + ba1)*flag + tensor.nnet.sigmoid(tensor.dot(hidden4, Wa1) + ba1)*(1 - (flag))\n",
    "# else:\n",
    "#     hiddena_1 = tensor.nnet.sigmoid(tensor.dot(hidden4, Wa1) + ba1)\n",
    "\n",
    "hiddena_2 = tensor.nnet.sigmoid(tensor.dot(hiddena_1, Wa2) + ba2)\n",
    "# hiddena_3 = tensor.nnet.sigmoid(tensor.dot(hiddena_2, Wa3) + ba3)\n",
    "hiddena_out = tensor.dot(hiddena_2, Wa_out) + ba_out\n",
    "p_y_given_x_adapt = tensor.nnet.softmax(hiddena_out)\n",
    "y_pred_adapt = tensor.argmax(p_y_given_x_adapt, axis=1)\n",
    "log_prob_adapt = tensor.log(p_y_given_x_adapt)\n",
    "log_likelihood_adapt = log_prob_adapt[tensor.arange(y2.shape[0]), y2]\n",
    "loss_adapt = - log_likelihood_adapt.mean()\n",
    "# loss_adapt = tensor.nnet.categorical_crossentropy(p_y_given_x_adapt, y2).mean()\n",
    "misclass_nb_adapt = tensor.neq(y_pred_adapt, y2)\n",
    "misclass_rate_adapt = misclass_nb_adapt.mean()\n",
    "alpha2 = 0\n",
    "loss_accu = ((misclass_nb_adapt - 0.5)**2).sum()\n",
    "test_model_adapt = theano.function(inputs=[x, y2],\n",
    "                                   outputs=misclass_rate_adapt)\n",
    "alpha = -1\n",
    "# if flag.get_value() == 1:\n",
    "g_l1 = tensor.grad(cost=(loss_lhuc - alpha*loss_adapt), wrt=l1)\n",
    "g_l2 = tensor.grad(cost=(loss_lhuc - alpha*loss_adapt), wrt=l2)\n",
    "g_l3 = tensor.grad(cost=(loss_lhuc - alpha*loss_adapt), wrt=l3)\n",
    "g_l4 = tensor.grad(cost=(loss_lhuc - alpha*loss_adapt), wrt=l4)\n",
    "#\n",
    "# g_l1 = tensor.grad(cost=-alpha*loss_adapt, wrt=l1)\n",
    "# g_l2 = tensor.grad(cost=-alpha*loss_adapt, wrt=l2)\n",
    "# g_l3 = tensor.grad(cost=-alpha*loss_adapt, wrt=l3)\n",
    "# g_l4 = tensor.grad(cost=alpha*loss_adapt, wrt=l4)\n",
    "\n",
    "# g_lout = tensor.grad(cost=loss_lhuc, wrt=)\n",
    "g_Wa1 = tensor.grad(cost=loss_adapt, wrt=Wa1)\n",
    "g_Wa2 = tensor.grad(cost=loss_adapt, wrt=Wa2)\n",
    "# g_Wa3 = tensor.grad(cost=loss_adapt, wrt=Wa3)\n",
    "g_Waout = tensor.grad(cost=loss_adapt, wrt=Wa_out)\n",
    "g_ba1 = tensor.grad(cost=loss_adapt, wrt=ba1)\n",
    "g_ba2 = tensor.grad(cost=loss_adapt, wrt=ba2)\n",
    "# g_ba3 = tensor.grad(cost=loss_adapt, wrt=ba3)\n",
    "g_baout = tensor.grad(cost=loss_adapt, wrt=ba_out)\n",
    "\n",
    "learning_rate = numpy.float32(0.13)\n",
    "# mul_g_l1 = tensor.transpose(g_l1)*y2\n",
    "# mul_g_l2 = tensor.transpose(g_l2)*y2\n",
    "# a = learning_rate*y2\n",
    "# a = a.eval()\n",
    "# print a\n",
    "# print learning_rate*dev_set_y[0]\n",
    "# dev = dev_set_y.get_value()\n",
    "# print dev_set_y[0]\n",
    "# mul_g_l3 = tensor.transpose(g_l3)*y2\n",
    "# mul_g_l4 = tensor.transpose(g_l4)*y2\n",
    "# print (y2 == [0])\n",
    "# if flag.get_value() == 1:\n",
    "new_l1 = l1 - learning_rate*g_l1\n",
    "new_l2 = l2 - learning_rate*g_l2\n",
    "new_l3 = l3 - learning_rate*g_l3\n",
    "new_l4 = l4 - learning_rate*g_l4\n",
    "\n",
    "new_Wa1 = Wa1 - learning_rate*g_Wa1\n",
    "new_Wa2 = Wa2 - learning_rate*g_Wa2\n",
    "new_Waout = Wa_out - learning_rate*g_Waout\n",
    "# new_Wa3 = Wa3 - learning_rate*g_Wa3\n",
    "new_ba1 = ba1 - learning_rate*g_ba1\n",
    "new_ba2 = ba2 - learning_rate*g_ba2\n",
    "# new_ba3 = ba3 - learning_rate*g_ba3\n",
    "new_baout = ba_out - learning_rate*g_baout\n",
    "\n",
    "# if flag.get_value() == 1:\n",
    "update = [(l1, new_l1), (l2, new_l2), (l3, new_l3), (l4, new_l4), (Wa1, new_Wa1), (Wa2, new_Wa2), (Wa_out, new_Waout), (ba1, new_ba1), (ba2, new_ba2), (ba_out, new_baout)]\n",
    "# else:\n",
    "#     update = [(Wa1, new_Wa1), (Wa2, new_Wa2),\n",
    "#               (Wa_out, new_Waout), (ba1, new_ba1), (ba2, new_ba2), (ba_out, new_baout)]\n",
    "\n",
    "adverserial_adaptation = theano.function(inputs=[x, y, y2],\n",
    "                                         outputs=loss_adapt,\n",
    "                                         updates=update\n",
    "                                         )\n",
    "batch_size = 1\n",
    "n_test_batches = test_set_x.shape[0] // batch_size\n",
    "n_train_batches = train_set_x.shape[0] // batch_size\n",
    "n_dev_batches = dev_set_x.shape[0] // batch_size\n",
    "\n",
    "# trainx = total_x[0:4000]\n",
    "# testx = total_x[4000:]\n",
    "# trainy = total_y[0:4000]\n",
    "# testy = total_y[4000:]\n",
    "print total_y_domain[0]\n",
    "def get_minibatch(i, dataset_x, dataset_y, domain_y):\n",
    "    start_idx = i*batch_size\n",
    "    end_idx = (i+1)*batch_size\n",
    "    batch_x =  dataset_x[start_idx:end_idx]\n",
    "    batch_y = dataset_y[start_idx:end_idx]\n",
    "    batch_domain = domain_y[start_idx:end_idx]\n",
    "    return batch_x, batch_y, batch_domain\n",
    "\n",
    "n_epoch = 50\n",
    "# import pydot\n",
    "\n",
    "theano.printing.pprint(loss_adapt)\n",
    "epoch = 0\n",
    "ll = l1.get_value()\n",
    "print ll.shape\n",
    "# theano.printing.pydotprint(loss_adapt, outfile=\"graph.png\", var_with_name_simple=True )\n",
    "while epoch < n_epoch:\n",
    "    epoch = epoch + 1\n",
    "    for minibatch_index in range(1500):\n",
    "        minibatch_x, minibatch_y, batch_domain = get_minibatch(minibatch_index, total_x, total_y, total_y_domain)\n",
    "        # flag = get_flag(batch_domain)\n",
    "        # print minibatch_x.shape\n",
    "        # print minibatch_y.shape\n",
    "        # print batch_domain.shape\n",
    "        # print batch_domain\n",
    "        a = batch_domain[0]\n",
    "        # a = batch_domain\n",
    "        flag.set_value(a)\n",
    "        # print a.shape\n",
    "        minibatch_loss = adverserial_adaptation(minibatch_x, minibatch_y, batch_domain)\n",
    "    lhuc_error = test_model_lhuc(test_set_x, test_set_y)\n",
    "    domain_error = test_model_adapt(total_x, total_y_domain)\n",
    "    print ('epoch %d lhuc_error %f , domain error %f '\n",
    "           %(epoch, lhuc_error*100, domain_error*100))\n",
    "lhuc_weights = {\"l1\": l1.get_value(),\n",
    "                \"l2\": l2.get_value(),\n",
    "                \"l3\": l3.get_value(),\n",
    "                \"l4\": l4.get_value()}\n",
    "\n",
    "cPickle.dump(lhuc_weights,\n",
    "             open(\"lhuc_weights_adv.pkl\", \"wb\"))"
   ]
  }
 ],
 "metadata": {
  "kernelspec": {
   "display_name": "Python 2",
   "language": "python",
   "name": "python2"
  },
  "language_info": {
   "codemirror_mode": {
    "name": "ipython",
    "version": 2.0
   },
   "file_extension": ".py",
   "mimetype": "text/x-python",
   "name": "python",
   "nbconvert_exporter": "python",
   "pygments_lexer": "ipython2",
   "version": "2.7.6"
  }
 },
 "nbformat": 4,
 "nbformat_minor": 0
}